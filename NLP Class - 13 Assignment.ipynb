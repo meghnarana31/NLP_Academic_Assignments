{
 "cells": [
  {
   "cell_type": "markdown",
   "id": "8f49e536",
   "metadata": {},
   "source": [
    "<h1><center>Congratulations</center></h1>\n",
    "\n",
    "![](https://media.giphy.com/media/v1.Y2lkPTc5MGI3NjExODIwMWJlZmY0MmJiMmQ0MmU1MDdkMzJhOThmMTY3YTIxMjBhMmIxYyZjdD1n/BPJmthQ3YRwD6QqcVD/giphy.gif)\n",
    "\n",
    "# You have Successfully gone through the course \"NLP and Text Analytics\"\n",
    "\n",
    "---\n",
    "\n",
    "In this Course, we have covered \n",
    "\n",
    "# Topics\n",
    "1.\tIntroduction to Natural Language Processing\n",
    "2.\tWhy learn NLP?\n",
    "3.\tLet's start playing with Python!\n",
    "4.\tText Wrangling and Cleansing\n",
    " - Sentence splitter\n",
    " - Tokenization\n",
    " - Stemming         \n",
    " - Lemmatization    \n",
    " - Stop word removal\n",
    " - Diving into NLTK\n",
    "5.\tVectorizing with Python\n",
    " - Count Vectorizer \n",
    " - TF-IDF Vectorizer\n",
    "6.\tModelling with Python \n",
    "- Classification \n",
    "- Clustering\n",
    "- Sentiment Analysis (Dictionary Based)\n",
    "- WordClouds\n",
    "\n",
    "---\n",
    "\n",
    "![](https://media.giphy.com/media/zTyOZBq1WUY78bmqUv/giphy.gif)\n",
    "\n",
    "----\n",
    "\n"
   ]
  },
  {
   "cell_type": "markdown",
   "id": "732c9447",
   "metadata": {},
   "source": [
    "### I hope you have learned the things we set out to learn in our first class and this subject was productive for you. \n",
    "\n",
    "### If you see a text based problem out and about in the wild, i hope you will find the tools we have learned here and use them towards a productive end. \n",
    "\n",
    "### And lastly, if this was not obvious, there is no assignment. This is it. "
   ]
  },
  {
   "cell_type": "markdown",
   "id": "c5f042dd",
   "metadata": {},
   "source": [
    "![](https://media.giphy.com/media/26gsjCZpPolPr3sBy/giphy.gif)"
   ]
  },
  {
   "cell_type": "code",
   "execution_count": null,
   "id": "451fd54b",
   "metadata": {},
   "outputs": [],
   "source": []
  },
  {
   "cell_type": "code",
   "execution_count": null,
   "id": "d24ce93a",
   "metadata": {},
   "outputs": [],
   "source": []
  },
  {
   "cell_type": "code",
   "execution_count": null,
   "id": "18cebd06",
   "metadata": {},
   "outputs": [],
   "source": []
  }
 ],
 "metadata": {
  "kernelspec": {
   "display_name": "Python 3 (ipykernel)",
   "language": "python",
   "name": "python3"
  },
  "language_info": {
   "codemirror_mode": {
    "name": "ipython",
    "version": 3
   },
   "file_extension": ".py",
   "mimetype": "text/x-python",
   "name": "python",
   "nbconvert_exporter": "python",
   "pygments_lexer": "ipython3",
   "version": "3.9.13"
  }
 },
 "nbformat": 4,
 "nbformat_minor": 5
}
